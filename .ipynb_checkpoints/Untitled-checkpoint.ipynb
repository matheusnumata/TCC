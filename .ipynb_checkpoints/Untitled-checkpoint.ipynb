{
 "cells": [
  {
   "cell_type": "code",
   "execution_count": null,
   "metadata": {},
   "outputs": [],
   "source": [
    "from __future__ import division\n",
    "from sklearn.model_selection import train_test_split\n",
    "from stop_words import get_stop_words\n",
    "from nltk.tokenize import TweetTokenizer\n",
    "from nltk.tokenize import sent_tokenize, word_tokenize\n",
    "from tweepy import *\n",
    "from collections import Counter\n",
    "from textblob import TextBlob\n",
    "import pandas as pd\n",
    "import numpy as np\n",
    "import string\n",
    "import re\n",
    "import matplotlib.pyplot as plt\n",
    "import tweepy\n",
    "import csv\n",
    "import io\n",
    "\n",
    "auth = tweepy.OAuthHandler('Gges03ofUCtG7Fy4TI6Jy8XSE', 'woHaPvBJJSqYbbmjTnZnsy7vGIi6hq2qvIdY6t9BnVpWVPTO3u')\n",
    "auth.set_access_token('957936725275365376-SmyN2POrnlLlXvDUd0AvccUL1d2lwQH', 'Vp0xBunfHNRmyCyqDxZ5PV2lijnsmQJIUWTfcojM1BnSZ')\n",
    "\n",
    "api = tweepy.API(auth, wait_on_rate_limit=True)\n",
    "\n",
    "searchQuery = 'morte'\n",
    "\n",
    "public_tweets = api.search(q=searchQuery, count=100,\n",
    "                            result_type=\"recent\",\n",
    "                            lang=\"pt-br\")\n",
    "\n",
    "palavras = 'analise-sentimento-palavras.csv'\n",
    "i = '1'\n",
    "#public_tweets = api.user_timeline(screen_name='whindersson', count=100)\n",
    "\n",
    "#abre/cria um arquivo csv\n",
    "#csvFile = open('teste.csv', 'w')\n",
    "\n",
    "with open('teste.csv', 'w', encoding='utf-8') as csvFile:\n",
    "    writer = csv.writer(csvFile, delimiter=',', dialect='excel', quotechar =  '\"')\n",
    "    writer.writerow([\"ID\",\n",
    "                    \"Usuário\",\n",
    "                    \"Tweet\",\n",
    "                    \"Seguidores\",\n",
    "                    \"Sentimento\"])\n",
    "\n",
    "    for tweet in public_tweets: \n",
    "        if tweet.text.startswith(\"RT @\") == True:\n",
    "            print('oi')\n",
    "        else:\n",
    "            palavra_tokenizada = word_tokenize(tweet.text)\n",
    "            for row in palavras:\n",
    "                for field in row:\n",
    "                    print(palavra_tokenizada)\n",
    "                    if field == palavra_tokenizada:\n",
    "                        print (\"ta no arquivo\")\n",
    "        #print (tweet.text);"
   ]
  }
 ],
 "metadata": {
  "kernelspec": {
   "display_name": "Python 3",
   "language": "python",
   "name": "python3"
  },
  "language_info": {
   "codemirror_mode": {
    "name": "ipython",
    "version": 3
   },
   "file_extension": ".py",
   "mimetype": "text/x-python",
   "name": "python",
   "nbconvert_exporter": "python",
   "pygments_lexer": "ipython3",
   "version": "3.8.5"
  }
 },
 "nbformat": 4,
 "nbformat_minor": 4
}
