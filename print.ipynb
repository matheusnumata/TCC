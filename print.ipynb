{
 "cells": [
  {
   "cell_type": "code",
   "execution_count": 17,
   "metadata": {},
   "outputs": [
    {
     "name": "stdout",
     "output_type": "stream",
     "text": [
      "{'caralho': 221, ',': 6, 'pessoa': 757, 'chegar': 236, 'puta': 807, 'pariu': 738, 'ler': 579, 'mensagem': 630, 'acha': 84, 'matou': 624, 'alguém': 116, 'su': 911, '…': 1070, 'enfia': 379, 'cu': 293, 'filho': 459, 'obrigado': 710, 'vacinar': 993, 'pandemia': 732, '?': 17, 'vai': 997, 'funcionar': 487, 'rolar': 852, 'vey': 1022, 'to': 951, 'chorando': 239, 'série': 919, 'bom': 182, 'dia': 346, 'veronica': 1020, 'merda': 632, 'pesada': 755, 'porra': 775, 'fuder': 485, 'desgraça': 330, 'menstruação': 631, 'buceta': 193, 'filha': 457, 'foder': 472, 'mano': 618, 'coisa': 247, 'chata': 232, 'todo': 952, 'mês': 676, 'considerações': 272, 'sobre': 898, 'segunda': 876, 'temporada': 933, 'the': 942, 'boys': 190, 'cacete': 204, 'vtnc': 1048, 'foda': 468, 'nojento': 696, 'escroto': 402, 'transfobico': 962, 'estuprador': 422, 'vsf': 1047, 'ainda': 108, 'ter': 939, 'homem': 516, 'defendendo': 314, 'verme': 1019, 'ai': 106, 'ódio': 1064, 'não': 706, 'gente': 497, 'tô': 977, 'indignada': 539, 'robinho': 849, 'bicho': 175, 'fuderrrrr': 486, 'odeio': 711, 'política': 772, 'ninguém': 694, 'vê': 1051, 'rua': 856, 'chega': 234, 'ano': 126, 'ele': 373, 'espero': 408, 'fodam': 469, 'filhas': 458, 'vão': 1049, 'pra': 788, 'caiam': 210, 'estaca': 411, 'pau': 743, 'bunda': 197, 'menina': 627, 'dom': 360, 'moral': 655, 'kkkkkkkkkkkkkkkkkkkkkk': 570, 'juro': 566, 'pego': 747, 'assediador': 147, 'frente': 480, 'encho': 377, 'tanto': 927, 'porrada': 776, 'quebro': 820, 'todos': 953, 'dedos': 313, 'mão': 674, 'c': 201, 'toma': 954, 'time': 943, 'cara': 220, 'fude': 481, 'santos': 869, 'colocou': 250, 'aqui': 137, 'tml': 950, 'bando': 167, 'hora': 517, 'gatilhar': 494, 'ban': 166, 'incesto': 537, 'tabua': 924, 'vou': 1045, 'bater': 170, 'romantizar': 853, 'casa': 227, 's': 857, '@deviiyue': 25, 'porque': 774, 'graça': 506, 'alguma': 115, 'tão': 975, 'forçando': 478, 'vontade': 1043, 'excluir': 427, 'rede': 840, 'social': 900, 'e': 368, 'tomar': 955, 'muito': 667, '!': 0, 'parece': 737, 'q': 811, 'qua': 813, 'qye': 830, 'oq': 720, 'corno': 283, 'quer': 824, 'odio': 714, 'deixa': 317, 'paz': 744, 'desgraçado': 333, '@bigfailmp': 22, 'impressionante': 535, 'fala': 434, 'mexe': 642, 'escrever': 400, 'bosta': 186, 'que': 818, 'shawn': 890, 'camila': 214, 'comentaram': 252, 'ashton': 144, 'filhos': 460, 'falando': 435, 'diabo': 347, 'inferno': 542, 'justificar': 567, 'dizendo': 356, 'globo': 500, 'persegue': 754, 'auge': 157, 'dizer': 357, 'manda': 613, 'justiç': 568, 'mínimo': 677, 'consideração': 271, 'mim': 648, 'quero': 828, 'ajudei': 110, 'ser': 886, 'matar': 622, 'cada': 206, 'aparece': 134, 'vida': 1027, 'fudendo': 484, 'sairia': 866, 'quarto': 816, 'falar': 436, 'gay': 495, 'ama': 120, 'ne': 686, 'deus': 343, 'luís': 598, 'godinho': 502, 'fica': 453, 'saber': 860, 'algum': 114, 'apanhar': 133, 'racho': 831, 'careca': 222, 'zaidu': 1060, 'tinha': 945, 'eh': 371, 'burro': 199, 'enterrar': 389, 'biel': 176, 'sozinho': 909, 'meio': 626, 'estragar': 415, 'novela': 700, 'boa': 180, 'sério': 920, 'tipo': 948, 'necessidade': 687, 'bgl': 174, 'desse': 340, 'doente': 359, 'morre': 658, 'chato': 233, 'existir': 431, 'vagão': 996, 'mulher': 669, 'conseguem': 268, 'controlar': 278, 'daquelas': 307, 'bota': 187, 'p': 724, 'ver': 1015, 'iam': 523, 'gostar': 504, 'pessoas': 758, 'cinicas': 244, 'velh': 1005, '0': 7, 'vacina': 991, 'servir': 889, 'entao': 385, 'arrombado': 143, 'nao': 683, 'ficar': 454, 'imuniza': 536, 'ex': 426, 'além': 119, 'descobrir': 328, 'tá': 974, 'vivo': 1036, 'descobri': 327, 'reproduziu': 842, 'kkkkk': 569, 'mlk': 652, 'jogou': 559, 'monte': 654, 'bo': 179, 'colo': 249, 'sumiu': 913, 'dai': 304, 'lidei': 585, 'mandei': 614, 'msg': 663, 'tava': 930, 'odi': 712, '@_vivalavulva': 18, 'coragem': 280, 'consentimento': 270, 'sendo': 881, 'afirmou': 98, 'mina': 650, 't': 922, '@paulode98156728': 58, '@rconstantino': 65, 'respeito': 845, 'respeite': 844, 'adianta': 96, 'vir': 1032, 'vitimismo': 1034, 'mando': 615, 'véi': 1050, 'sofer': 902, 'desatjvar': 325, 'serio': 888, 'vendo': 1013, 'mansao': 619, 'hill': 514, 'gritei': 507, 'tao': 928, 'alto': 118, 'quase': 817, 'matei': 623, 'avo': 159, 'vei': 1003, 'infartei': 541, 'man': 612, 'namoral': 682, 'dá': 367, 'quebrar': 819, 'canela': 218, 'prefeito': 790, 'fogos': 474, 'acende': 82, 'sai': 864, 'voando': 1038, 'par': 734, 'explodir': 432, 'nessa': 690, 'vadia': 994, 'fode': 471, 'nota': 698, 'esclarecimento': 394, 'igual': 529, 'josh': 561, 'vc': 1001, 'escreveu': 401, 'co': 245, 'finalmente': 463, 'intervalo': 545, 'atender': 153, 'compra': 259, 'recepciona': 839, 'assim': 148, 'participa': 739, 'follow': 476, 'trick': 967, 'seguir': 875, 'volta': 1041, 'carisma': 223, '=': 16, 'preconceituosos': 789, 'mesmos': 639, 'caixistas': 212, 'amam': 121, 'identificam': 525, 'pq': 785, 'mesma': 638, '@naozoenaomi': 51, 'maluco': 610, 'mt': 664, 'fazer': 444, 'dessa': 338, 'anyway': 131, 'acho': 87, 'se': 873, 'culpa': 295, 'seres': 887, 'vítimas': 1053, 'voz': 1046, 'desacreditas': 324, 'pis': 768, 'ah': 103, 'agora': 100, 'pprt': 784, 'muleque': 668, 'ta': 923, 'fodido': 473, 'cabeça': 203, 'trauma': 965, 'sofrimento': 903, 'passando': 741, 'a': 76, 'situação': 897, 'daí': 309, 'vez': 1023, 'abre': 78, 'boca': 181, 'mersa': 636, 'indignado': 540, 'platina': 769, '3': 10, 'chegando': 235, '4': 12, 'tentando': 937, 'pegar': 746, 'mestre': 640, 'hack': 511, 'qu': 812, 'desocupada': 337, 'baekhyun': 164, 'denomina': 321, 'sei': 878, 'saco': 861, 'lendo': 578, 'coisas': 248, 'umas': 983, 'babacas': 162, 'aí': 160, 'pare': 736, '@psychzsaturn': 61, 'coverde': 287, 'mandou': 616, 'enfio': 380, 'ferro': 450, 'f': 433, 'garoto': 493, 'sento': 884, 'nesse': 691, 'rosado': 854, 'voce': 1039, 'gemer': 496, 'som': 905, 'ultrapassar': 981, 'estratosfera': 418, 'um': 982, 'mundo': 670, 'nível': 708, 'surpreende': 914, 'ídolo': 1062, 'comer': 255, 'de': 310, 'tini': 946, 'desclassificada': 326, 'causa': 229, 'fandom': 439, 'maior': 607, 'guerra': 510, '@muitohumillde': 50, 'menino': 628, 'ultrapa': 978, 'estratos': 417, '@narchaw': 52, 'favor': 441, 'ir': 548, 'tratamento': 964, 'parar': 735, 'idiota': 526, 'ignorante': 527, 'jeito': 553, 'va': 990, 'raiva': 833, 'ranço': 834, 'anticristo': 130, 'chora': 238, 'michael': 644, 'assistindo': 150, 'ordem': 721, 'fenix': 449, 'tendo': 934, 'ataque': 151, 'umbrigde': 984, 'sinceros': 896, 'fiz': 467, 'duas': 362, 'vezes': 1024, 'promessa': 804, '34': 11, 'anos': 127, 'lixo': 593, '@jalbertoncini': 38, 'óbvio': 1063, 'passar': 742, 'vírus': 1052, 'fim': 461, 'porém': 780, 'faze': 443, 'pois': 771, 'ja': 552, 'torcendo': 959, 'pro': 798, 'botar': 189, 'dentro': 322, 'mermo': 635, 'levando': 581, 'trava': 966, 'escutou': 405, 'direito': 350, 'sammy': 868, 'castiel': 228, 'responde': 846, 'ligação': 587, 'alado': 111, '@jairbolsonaro': 37, '@prfbrasil': 60, 'presidente': 792, 'nunca': 705, 'odiei': 713, 'eu': 425, '@quebrandootabu': 63, 'cristã': 291, 'condenado': 261, 'pqp': 786, 'corna': 282, 'desgraçadaaaaaaaaaa': 332, '🤬': 1079, '😡': 1077, 'aguento': 102, 'tratada': 963, 'criança': 289, 'uns': 986, 'meses': 637, 'atrás': 155, 'ia': 522, 'sair': 865, 'mi': 643, 'timinho': 944, '@robsonbrito204': 66, '@isadorabasile': 34, 'impertinen': 531, '24h': 9, 'jojo': 560, 'luiza': 597, 'cuidar': 294, 'ela': 372, 'esqu': 409, 'encheu': 376, 'paciência': 725, 'estadounidensse': 412, 'hein': 512, 'krl': 572, 'acontece': 90, 'botam': 188, 'juiz': 563, 'palhaço': 730, 'apitar': 135, 'jogo': 558, 'ain': 107, 'tadinho': 925, 'bêbado': 200, 'consciência': 266, 'fez': 452, 'estupro': 424, 'estaria': 414, 'tudo': 972, 'bem': 172, 'es': 393, '@hevezin': 33, 'querer': 826, 'invadir': 546, 'mata': 621, 'pais': 727, 'porras': 777, 'porwa': 779, 'cralaho': 288, 'surtando': 915, 'fudee': 482, 'nrvsoaa': 704, 'acobtecdndo': 89, 'vcs': 1002, '@digitarotexto': 26, '@feolips': 28, '@rafael_cherem': 64, '@luizgamab': 47, '@folha': 30, 'certeza': 231, 'la': 573, 'bahia': 165, 'deve': 344, 'estar': 413, 'esco': 395, 'chorar': 240, 'gaarinha': 490, 'bomba': 183, 'desses': 341, '“': 1068, 'moro': 656, 'vejo': 1004, 'ngm': 692, '”': 1069, 'assintomático': 149, 'consegue': 267, 'sim': 894, 'existe': 430, 'movimento': 662, 'feminista': 448, 'dar': 308, 'lugar': 596, 'soco': 901, 'entendeu': 387, 'né': 707, 'comentário': 254, 'usa': 987, 'klh': 571, 'nada': 681, 'deixe': 318, 'velhos': 1008, 'desgraçados': 334, 'machistas': 605, 'duvidando': 366, 'da': 303, 'mylena': 672, 'cala': 213, 'desgraçada': 331, 'feia': 446, 'burra': 198, 'faz': 442, 'rojão': 850, 'por': 773, 'motivo': 661, 'erraram': 392, 'acertar': 83, 'esconder': 398, 'vó': 1054, 'nisso': 695, 'estrat': 416, '@levihangestan': 46, 'falou': 437, 'levi': 582, 'liga': 586, 'asqueroso': 146, 'ódioooooo': 1065, 'socar': 899, 'rasga': 836, 'versão': 1021, 'preferência': 791, 'querendo': 825, 'derrubar': 323, 'afundar': 99, 'nojo': 697, 'tomare': 957, 'apodreça': 136, 'cadeia': 207, 'machista': 604, 'vergonha': 1018, 'sid': 891, 'escreve': 399, 'enfiou': 381, 'alfabetização': 112, 'tio': 947, '@nyanicidea': 56, 'pedofilo': 745, 'maldito': 609, 'merecem': 634, 'ar': 138, 'vendendo': 1011, 'cachorro': 205, 'raça': 837, 'brother': 192, 'vacinado': 992, 'queria': 827, 'vinhesse': 1030, 'vim': 1029, 'comigo': 257, 'sabe': 858, 'ensinar': 383, 'rapidinho': 835, 'caminho': 215, 'vender': 1012, 'soteldo': 908, 'menos': 629, '67,7': 14, 'milhões': 647, '(': 4, 'valor': 998, 'devemos': 345, 'huachipato': 519, 'novas': 699, '@kylexzbeau': 44, '@rolimdior': 67, 'ahhhh': 105, 'sonhando': 906, 'cyberpunk': 298, 'escuto': 404, 'mú': 678, '@santosfc': 68, 'chupando': 242, 'canavial': 216, 'rola': 851, 'esfregando': 406, 'xota': 1059, 'sebo': 874, 'sen': 880, 'logo': 594, 'início': 547, 'ninguem': 693, 'merece': 633, 'sbr': 871, 'realmente': 838, 'acaba': 79, 'm': 602, 'cú': 301, 'quenga': 822, 'barata': 169, 'banheiro': 168, 'público': 810, 'mãe': 673, 'joana': 555, '@kimpkat': 42, 'pegue': 748, 'china': 237, 'soque': 907, 'beira': 171, 'mama': 611, 'covarde': 286, 'safado': 863, 'duma': 363, 'dao': 306, 'palco': 729, 'fiscal': 466, 'palpite': 731, 'gi': 499, 'obrigada': 709, 'ouvir': 723, 'velha': 1006, 'famíli': 438, '@gabriel54929007': 31, '@conclusoesinesp': 24, 'twitter': 973, 'sdu': 872, 'gnomo': 501, 'mal': 608, 'comido': 256, 'sua': 912, 'universo': 985, 'tapa': 929, 'entendi': 388, 'primeira': 796, 'aaa': 77, 'iss': 550, 'tomara': 956, 'volte': 1042, '@kingchocobo_': 43, 'asiatico': 145, 'apanhando': 132, 'mostrando': 660, 'nasceu': 684, 'morrer': 659, '🤝': 1078, 'vem': 1010, 'esperar': 407, 'jogar': 557, 'terceira': 940, 'divisão': 355, 'portugal': 778, 'amor': 125, 'episódio': 391, 'chorei': 241, 'nazista': 685, 'racista': 832, 'exclusivamente': 428, 'defesa': 315, 'pressão': 793, 'liberaram': 583, 'nem': 688, '@nickkk1002': 54, '@yvictorsilva00': 75, '@dvermelholfc': 27, 'fodase': 470, 'importo': 534, 'significa': 893, 'transar': 961, 'estuprar': 423, 'virtude': 1033, 'perdoar': 753, 'em': 374, 'difícil': 348, 'gado': 491, 'entender': 386, 'liberdade': 584, 'vive': 1035, 'curral': 297, 'voto': 1044, 'dei': 316, 'cadê': 209, 'marketing': 620, 'cidade': 243, 'único': 1066, 'vereador': 1017, 'conheço': 265, 'carro': 225, 'na': 680, 'micróbio': 645, 'roubando': 855, 'qualidade': 814, 'fudeeeer': 483, '@pedrocertezas': 59, 'acredita': 93, 'concordo': 260, 'cumpra': 296, 'propósito': 805, 'dele': 319, 'bonoro': 184, 'fzr': 488, '🥰': 1081, '🤲': 1080, '10': 8, 'horas': 518, 'manhã': 617, 'sábado': 918, 'berrando': 173, 'fone': 477, 'irmão': 549, 'vier': 1028, 'encher': 375, 'hoje': 515, 'novo': 701, 'estressando': 419, 'achando': 85, 'excroto': 429, '@paulim_patrao': 57, 'esquartejado': 410, 'decap': 311, '@fgmarquinhos': 29, 'ultrapas': 979, '#vacinaobrigatorianao': 2, 'olho': 718, 'biomédico': 178, 'farmacêutico': 440, 'médico': 675, 'ca': 202, 'amigo': 124, 'estressei': 420, 'durante': 365, 'partida': 740, 'cota': 285, 'inteira': 544, '8h': 15, 'liverpool': 591, 'vagabundo': 995, 'violento': 1031, 'professor': 802, 'disponibilizar': 351, 'ate': 152, 'antes': 129, '@vini_vecchi': 74, 'importa': 533, 'leu': 580, 'estudo': 421, 'opniao': 719, 'folho': 475, 'capacidade': 219, '&': 3, 'gt': 508, 'gtseu': 509, 'lt': 595, 'trabalho': 960, 'gosta': 503, 'palavrão': 728, 'pinto': 763, 'bucetão': 196, 'velho': 1007, 'compartilhou': 258, 'link': 588, 'pode': 770, 'jesus': 554, '@jdoriajr': 39, 'implantar': 532, 'ditadura': 354, 'sp': 910, 'acabando': 80, '@jikooglxy': 41, 'atenção': 154, 'live': 590, '@jeonyag': 40, 'oi': 715, 'trânsito': 970, 'acidente': 88, 'entrar': 390, 'd': 302, 'arrebentar': 140, 'ministra': 651, 'ead': 369, 'escola': 396, 'ensino': 384, 'educacional': 370, 'criou': 290, 'acéfalo': 95, 'van': 1000, 'dijk': 349, 'piorar': 765, 'conversinha': 279, 'pickford': 760, 'conheceu': 264, 'amarelo': 122, 'cartão': 226, 'ma': 603, 'primeiramente': 797, 'segundamente': 877, 'você': 1040, 'terceiramente': 941, 'feliz': 447, 'nenhum': 689, 'vizinho': 1037, 'noção': 703, 'festa': 451, 'altas': 117, 'madrugada': 606, 'talo': 926, 'olha': 716, 'posso': 782, 'fdp': 445, 'adora': 97, 'julgar': 564, 'geral': 498, 'qualquer': 815, 'finalista': 462, 'ganhar': 492, 'prêmio': 806, 'pior': 764, 'anotem': 128, '#festaafazenda': 1, 'joga': 556, 'desenhos': 329, 'simplesmente': 895, 'novos': 702, 'acontecer': 92, 'cosando': 284, 'bucetar': 195, '@cilane_assad': 23, 'ahhh': 104, 'pensei': 750, 'saúde': 870, 'pública': 809, 'brasil': 191, 'sempre': 879, 'sido': 892, 'ué': 988, '@sinkswalls': 70, 'cebolinha': 230, 'coelho': 246, 'arromb': 142, '@jabamigab': 36, 'potter': 783, 'verdade': 1016, 'desmaiou': 336, 'desmaiei': 335, 'incomodado': 538, 'deu': 342, 'caio': 211, 'ribeiro': 848, 'v': 989, 'mimizentas': 649, 'piada': 759, 'duplo': 364, 'sentido': 883, 'picuinha': 761, 'têm': 976, 'problemas': 800, 'outro': 722, 'resolvam': 843, 'tenta': 936, 'engajamento': 382, 'acontecendo': 91, 'momento': 653, 'tenha': 935, '@purinho22': 62, '@laylaaprin': 45, '@manausnego': 48, '@goodkryst': 32, 'tirsso': 949, 'viado': 1026, 'come': 251, 'comentou': 253, '@tiktokproibido': 72, 'isso': 551, 'fique': 465, 'sabendo': 859, 'só': 921, 'venha': 1014, 'cancelamento': 217, 'tentei': 938, 'army': 139, 'pacífica': 726, 'cadela': 208, 'seokji': 885, 'previsao': 794, 'conhecer': 263, 'alguem': 113, 'mto': 665, 'legal': 575, 'decepcionar': 312, 'bora': 185, 'revele': 847, 'senhor': 882, 'encontro': 378, 'posição': 781, 'quentinha': 823, 'confortável': 262, 'dormir': 361, 'mijar': 646, 'arrependo': 141, 'fico': 456, 'coração': 281, 'me': 625, 'dessas': 339, 'contra': 276, 'contratou': 277, 'junto': 565, 'atualizar': 156, 'puto': 808, 'áudio': 1061, 'bacana': 163, 'dms': 358, 'sala': 867, 'dando': 305, 'xingo': 1058, 'perdeu': 752, '40': 13, '@nextsurtoluiz': 53, '@sparksnowlast': 71, '@alladdinho': 20, 'foto': 479, 'olhar': 717, 'constituição': 273, 'i': 521, '@vgnarko': 73, '@itsmytimeman': 35, 'vamos': 999, 'continuar': 275, 'distanciamento': 353, 'aulas': 158, 'escolas': 397, 'redu': 841, 'crlh': 292, 'disse': 352, 'hetero': 513, 'n': 679, 'penso': 751, '*': 5, 'tempo': 932, 'pr': 787, 'grande': 505, 'safada': 862, 'sofá': 904, 'câmera': 299, 'lá': 599, 'tem': 931, '@no_clipay': 55, '@mlchaa': 49, 'imbecil': 530, 'acabou': 81, 'conseguia': 269, '@scarlettssz': 69, 'escuta': 403, 'troféu': 969, 'papos': 733, 'vi': 1025, 'tristeza': 968, 'prima': 795, 'mudança': 666, 'lei': 576, 'agr': 101, 'xereca': 1057, 'bucetao': 194, 'piru': 767, 'pingola': 762, 'bingulin': 177, 'xavasca': 1056, 'larissinha': 574, 'xana': 1055, 'piroca': 766, 'meter': 641, 'acredito': 94, '💌': 1076, 'ˀˀ': 1067, '@ah': 19, 'swnto': 917, '♡': 1073, '⃕': 1071, 'ㅋㅋ': 1074, '☁': 1072, '️': 1075, 'tome': 958, 'morra': 657, 'três': 971, 'ajuda': 109, 'joão': 562, 'carlo': 224, 'fingir': 464, 'hétero': 520, 'babaca': 161, 'céu': 300, 'ultrapass': 980, 'surtos': 916, 'iguais': 528, 'problema': 799, 'produção': 801, 'programa': 803, 'quis': 829, 'ficasse': 455, 'ibope': 524, 'leila': 577, 'amei': 123, 'achar': 86, 'lógica': 600, 'musical': 671, 'velozes': 1009, 'infernos': 543, 'demônio': 320, 'pensando': 749, 'quem': 821, '@andrezadelgado': 21, 'livro': 592, 'construção': 274, 'física': 489, 'literalmente': 589, 'lúcifer': 601, 'pesquisem': 756}\n"
     ]
    }
   ],
   "source": [
    "#importar bibliotecas\n",
    "from nltk import word_tokenize\n",
    "import nltk\n",
    "import re\n",
    "import pandas as pd\n",
    "from sklearn.feature_extraction.text import CountVectorizer\n",
    "from sklearn.naive_bayes import MultinomialNB\n",
    "from sklearn import svm\n",
    "from sklearn import metrics\n",
    "from sklearn.metrics import accuracy_score, classification_report, confusion_matrix\n",
    "from nltk.classify.scikitlearn import SklearnClassifier\n",
    "from sklearn.model_selection import cross_val_predict\n",
    "from nltk.tokenize import TweetTokenizer\n",
    "from sklearn.pipeline import Pipeline\n",
    "from sklearn.metrics import accuracy_score\n",
    "\n",
    "#ler o dataset\n",
    "df = pd.read_csv('dados_treino_200.csv', encoding='utf-8')\n",
    "df2 = pd.read_csv('dados_teste.csv', encoding='utf-8')\n",
    "\n",
    "#removendo os valores duplicados\n",
    "df.drop_duplicates(['Tweet'], inplace=True)\n",
    "df2.drop_duplicates(['Tweet'], inplace=True)\n",
    "df.dropna(axis=0, how='all')\n",
    "df2.dropna(axis=0, how='all')\n",
    "\n",
    "#separar tweets e suas classes\n",
    "tweets = df['Tweet']\n",
    "classificacao = df['Sentimento']\n",
    "tweets2 = df2['Tweet']\n",
    "classificacao2 = df2['Sentimento']\n",
    "\n",
    "#função de pré-processamento\n",
    "def Preprocessing(instancia):\n",
    "    instancia = re.sub(r\"http\\S+\", \"\", instancia).lower().replace('.','').replace(';','').replace('-','').replace(':','').replace(')','').replace('\"','')\n",
    "    stopwords = set(nltk.corpus.stopwords.words('portuguese'))\n",
    "    palavras = [i for i in instancia.split() if not i in stopwords]\n",
    "    return (\" \".join(palavras))\n",
    "\n",
    "#aplicar a função em todos os dados\n",
    "tweets = [Preprocessing(i) for i in tweets]\n",
    "tweets2 = [Preprocessing(i) for i in tweets2]\n",
    "\n",
    "#instanciar o objeto que faz a vetorização dos dados\n",
    "tweet_tokenizer = TweetTokenizer() \n",
    "vectorizer = CountVectorizer(analyzer=\"word\", tokenizer=tweet_tokenizer.tokenize)\n",
    "\n",
    "#aplicar o vetorizador nos dados e retorna uma matriz esparsa\n",
    "freq_tweets = vectorizer.fit_transform(tweets)\n",
    "freq_testes = vectorizer.transform(tweets2)\n",
    "type(freq_tweets)\n",
    "\n",
    "#visualizar o número de linhas e colunas da matriz:\n",
    "freq_tweets.shape\n",
    "print (vectorizer.vocabulary_)\n"
   ]
  },
  {
   "cell_type": "code",
   "execution_count": null,
   "metadata": {},
   "outputs": [],
   "source": []
  },
  {
   "cell_type": "code",
   "execution_count": null,
   "metadata": {},
   "outputs": [],
   "source": []
  },
  {
   "cell_type": "code",
   "execution_count": null,
   "metadata": {},
   "outputs": [],
   "source": []
  }
 ],
 "metadata": {
  "kernelspec": {
   "display_name": "Python 3",
   "language": "python",
   "name": "python3"
  },
  "language_info": {
   "codemirror_mode": {
    "name": "ipython",
    "version": 3
   },
   "file_extension": ".py",
   "mimetype": "text/x-python",
   "name": "python",
   "nbconvert_exporter": "python",
   "pygments_lexer": "ipython3",
   "version": "3.8.5"
  }
 },
 "nbformat": 4,
 "nbformat_minor": 4
}
