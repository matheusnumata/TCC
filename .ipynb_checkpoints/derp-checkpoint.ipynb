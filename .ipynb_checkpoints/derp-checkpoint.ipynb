{
 "cells": [
  {
   "cell_type": "code",
   "execution_count": 1,
   "metadata": {},
   "outputs": [
    {
     "ename": "SyntaxError",
     "evalue": "unmatched ')' (<ipython-input-1-59b089922685>, line 13)",
     "output_type": "error",
     "traceback": [
      "\u001b[1;36m  File \u001b[1;32m\"<ipython-input-1-59b089922685>\"\u001b[1;36m, line \u001b[1;32m13\u001b[0m\n\u001b[1;33m    lang=\"pt-br\"))\u001b[0m\n\u001b[1;37m                 ^\u001b[0m\n\u001b[1;31mSyntaxError\u001b[0m\u001b[1;31m:\u001b[0m unmatched ')'\n"
     ]
    }
   ],
   "source": [
    "import tweepy\n",
    "from textblob import TextBlob\n",
    "\n",
    "auth = tweepy.OAuthHandler('Gges03ofUCtG7Fy4TI6Jy8XSE', 'woHaPvBJJSqYbbmjTnZnsy7vGIi6hq2qvIdY6t9BnVpWVPTO3u')\n",
    "auth.set_access_token('957936725275365376-SmyN2POrnlLlXvDUd0AvccUL1d2lwQH', 'Vp0xBunfHNRmyCyqDxZ5PV2lijnsmQJIUWTfcojM1BnSZ')\n",
    "\n",
    "api = tweepy.API(auth, wait_on_rate_limit=False)\n",
    "\n",
    "searchQuery = 'morte'\n",
    "\n",
    "public_tweets = api.search(q=searchQuery, count=10,\n",
    "                            result_type=\"recent\",\n",
    "                            lang=\"pt-br\")\n",
    "\n",
    "for tweet in public_tweets:\n",
    "    frase = TextBlob(tweet.text)\n",
    "\n",
    "    if frase.detect_language() != 'en':\n",
    "        traducao = TextBlob(str(frase.translate(to='en')))\n",
    "        print('Tweet: {0} - Sentimento: {1}'.format(tweet.text, traducao.sentiment))\n",
    "    else:\n",
    "        print('Tweet: {0} - Sentimento: {1}'.format(tweet.text, frase.sentiment))"
   ]
  },
  {
   "cell_type": "code",
   "execution_count": null,
   "metadata": {},
   "outputs": [],
   "source": []
  },
  {
   "cell_type": "code",
   "execution_count": null,
   "metadata": {},
   "outputs": [],
   "source": []
  },
  {
   "cell_type": "code",
   "execution_count": null,
   "metadata": {},
   "outputs": [],
   "source": []
  },
  {
   "cell_type": "code",
   "execution_count": null,
   "metadata": {},
   "outputs": [],
   "source": []
  }
 ],
 "metadata": {
  "kernelspec": {
   "display_name": "Python 3",
   "language": "python",
   "name": "python3"
  },
  "language_info": {
   "codemirror_mode": {
    "name": "ipython",
    "version": 3
   },
   "file_extension": ".py",
   "mimetype": "text/x-python",
   "name": "python",
   "nbconvert_exporter": "python",
   "pygments_lexer": "ipython3",
   "version": "3.8.5"
  }
 },
 "nbformat": 4,
 "nbformat_minor": 4
}
